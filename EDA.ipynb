{
 "cells": [
  {
   "cell_type": "code",
   "execution_count": null,
   "metadata": {},
   "outputs": [],
   "source": [
    "import numpy as np\n",
    "import pandas as pd\n",
    "import seaborn as sns \n",
    "import matplotlib.pyplot as plt"
   ]
  },
  {
   "cell_type": "code",
   "execution_count": 2,
   "metadata": {},
   "outputs": [],
   "source": [
    "df= pd.read_csv('music_dataset.csv')"
   ]
  },
  {
   "cell_type": "code",
   "execution_count": 3,
   "metadata": {},
   "outputs": [
    {
     "data": {
      "text/html": [
       "<div>\n",
       "<style scoped>\n",
       "    .dataframe tbody tr th:only-of-type {\n",
       "        vertical-align: middle;\n",
       "    }\n",
       "\n",
       "    .dataframe tbody tr th {\n",
       "        vertical-align: top;\n",
       "    }\n",
       "\n",
       "    .dataframe thead th {\n",
       "        text-align: right;\n",
       "    }\n",
       "</style>\n",
       "<table border=\"1\" class=\"dataframe\">\n",
       "  <thead>\n",
       "    <tr style=\"text-align: right;\">\n",
       "      <th></th>\n",
       "      <th>Song</th>\n",
       "      <th>Artist</th>\n",
       "      <th>Streams</th>\n",
       "      <th>Daily Streams</th>\n",
       "      <th>Genre</th>\n",
       "      <th>Release Year</th>\n",
       "      <th>Peak Position</th>\n",
       "      <th>Weeks on Chart</th>\n",
       "      <th>Lyrics Sentiment</th>\n",
       "      <th>TikTok Virality</th>\n",
       "      <th>Danceability</th>\n",
       "      <th>Acousticness</th>\n",
       "      <th>Energy</th>\n",
       "    </tr>\n",
       "  </thead>\n",
       "  <tbody>\n",
       "    <tr>\n",
       "      <th>0</th>\n",
       "      <td>Track 14728</td>\n",
       "      <td>EchoSync</td>\n",
       "      <td>689815326</td>\n",
       "      <td>796199</td>\n",
       "      <td>Trap</td>\n",
       "      <td>2021</td>\n",
       "      <td>81</td>\n",
       "      <td>8</td>\n",
       "      <td>0.20</td>\n",
       "      <td>17</td>\n",
       "      <td>0.11</td>\n",
       "      <td>0.59</td>\n",
       "      <td>0.60</td>\n",
       "    </tr>\n",
       "    <tr>\n",
       "      <th>1</th>\n",
       "      <td>Track 21319</td>\n",
       "      <td>The Midnight Howl</td>\n",
       "      <td>457954557</td>\n",
       "      <td>2426710</td>\n",
       "      <td>Electronic</td>\n",
       "      <td>2018</td>\n",
       "      <td>44</td>\n",
       "      <td>99</td>\n",
       "      <td>0.51</td>\n",
       "      <td>30</td>\n",
       "      <td>0.61</td>\n",
       "      <td>0.25</td>\n",
       "      <td>0.71</td>\n",
       "    </tr>\n",
       "    <tr>\n",
       "      <th>2</th>\n",
       "      <td>Track 22152</td>\n",
       "      <td>Retro Resonance</td>\n",
       "      <td>217316865</td>\n",
       "      <td>1639915</td>\n",
       "      <td>Reggae</td>\n",
       "      <td>1992</td>\n",
       "      <td>57</td>\n",
       "      <td>12</td>\n",
       "      <td>0.36</td>\n",
       "      <td>11</td>\n",
       "      <td>0.43</td>\n",
       "      <td>0.58</td>\n",
       "      <td>0.20</td>\n",
       "    </tr>\n",
       "    <tr>\n",
       "      <th>3</th>\n",
       "      <td>Track 80217</td>\n",
       "      <td>Urban Rhapsody</td>\n",
       "      <td>312747634</td>\n",
       "      <td>3614532</td>\n",
       "      <td>Pop</td>\n",
       "      <td>2000</td>\n",
       "      <td>21</td>\n",
       "      <td>50</td>\n",
       "      <td>0.89</td>\n",
       "      <td>44</td>\n",
       "      <td>0.18</td>\n",
       "      <td>0.04</td>\n",
       "      <td>0.63</td>\n",
       "    </tr>\n",
       "    <tr>\n",
       "      <th>4</th>\n",
       "      <td>Track 77204</td>\n",
       "      <td>Sofia Carter</td>\n",
       "      <td>726442597</td>\n",
       "      <td>1028518</td>\n",
       "      <td>Blues</td>\n",
       "      <td>2001</td>\n",
       "      <td>97</td>\n",
       "      <td>9</td>\n",
       "      <td>-0.62</td>\n",
       "      <td>71</td>\n",
       "      <td>0.82</td>\n",
       "      <td>0.59</td>\n",
       "      <td>0.61</td>\n",
       "    </tr>\n",
       "  </tbody>\n",
       "</table>\n",
       "</div>"
      ],
      "text/plain": [
       "          Song             Artist    Streams  Daily Streams       Genre  \\\n",
       "0  Track 14728           EchoSync  689815326         796199        Trap   \n",
       "1  Track 21319  The Midnight Howl  457954557        2426710  Electronic   \n",
       "2  Track 22152    Retro Resonance  217316865        1639915      Reggae   \n",
       "3  Track 80217     Urban Rhapsody  312747634        3614532         Pop   \n",
       "4  Track 77204       Sofia Carter  726442597        1028518       Blues   \n",
       "\n",
       "   Release Year  Peak Position  Weeks on Chart  Lyrics Sentiment  \\\n",
       "0          2021             81               8              0.20   \n",
       "1          2018             44              99              0.51   \n",
       "2          1992             57              12              0.36   \n",
       "3          2000             21              50              0.89   \n",
       "4          2001             97               9             -0.62   \n",
       "\n",
       "   TikTok Virality  Danceability  Acousticness  Energy  \n",
       "0               17          0.11          0.59    0.60  \n",
       "1               30          0.61          0.25    0.71  \n",
       "2               11          0.43          0.58    0.20  \n",
       "3               44          0.18          0.04    0.63  \n",
       "4               71          0.82          0.59    0.61  "
      ]
     },
     "execution_count": 3,
     "metadata": {},
     "output_type": "execute_result"
    }
   ],
   "source": [
    "df.head()"
   ]
  },
  {
   "cell_type": "code",
   "execution_count": 4,
   "metadata": {},
   "outputs": [
    {
     "data": {
      "text/html": [
       "<div>\n",
       "<style scoped>\n",
       "    .dataframe tbody tr th:only-of-type {\n",
       "        vertical-align: middle;\n",
       "    }\n",
       "\n",
       "    .dataframe tbody tr th {\n",
       "        vertical-align: top;\n",
       "    }\n",
       "\n",
       "    .dataframe thead th {\n",
       "        text-align: right;\n",
       "    }\n",
       "</style>\n",
       "<table border=\"1\" class=\"dataframe\">\n",
       "  <thead>\n",
       "    <tr style=\"text-align: right;\">\n",
       "      <th></th>\n",
       "      <th>Streams</th>\n",
       "      <th>Daily Streams</th>\n",
       "      <th>Release Year</th>\n",
       "      <th>Peak Position</th>\n",
       "      <th>Weeks on Chart</th>\n",
       "      <th>Lyrics Sentiment</th>\n",
       "      <th>TikTok Virality</th>\n",
       "      <th>Danceability</th>\n",
       "      <th>Acousticness</th>\n",
       "      <th>Energy</th>\n",
       "    </tr>\n",
       "  </thead>\n",
       "  <tbody>\n",
       "    <tr>\n",
       "      <th>count</th>\n",
       "      <td>4.850000e+03</td>\n",
       "      <td>4.850000e+03</td>\n",
       "      <td>4850.000000</td>\n",
       "      <td>4850.000000</td>\n",
       "      <td>4850.000000</td>\n",
       "      <td>4850.000000</td>\n",
       "      <td>4850.000000</td>\n",
       "      <td>4850.000000</td>\n",
       "      <td>4850.000000</td>\n",
       "      <td>4850.000000</td>\n",
       "    </tr>\n",
       "    <tr>\n",
       "      <th>mean</th>\n",
       "      <td>3.970579e+08</td>\n",
       "      <td>2.493418e+06</td>\n",
       "      <td>2007.725773</td>\n",
       "      <td>51.425773</td>\n",
       "      <td>52.280000</td>\n",
       "      <td>0.000478</td>\n",
       "      <td>50.776495</td>\n",
       "      <td>0.555280</td>\n",
       "      <td>0.501029</td>\n",
       "      <td>0.553091</td>\n",
       "    </tr>\n",
       "    <tr>\n",
       "      <th>std</th>\n",
       "      <td>2.307764e+08</td>\n",
       "      <td>1.457542e+06</td>\n",
       "      <td>10.341312</td>\n",
       "      <td>28.909270</td>\n",
       "      <td>29.472456</td>\n",
       "      <td>0.574915</td>\n",
       "      <td>29.325179</td>\n",
       "      <td>0.260619</td>\n",
       "      <td>0.287531</td>\n",
       "      <td>0.260541</td>\n",
       "    </tr>\n",
       "    <tr>\n",
       "      <th>min</th>\n",
       "      <td>1.130883e+06</td>\n",
       "      <td>1.158000e+04</td>\n",
       "      <td>1990.000000</td>\n",
       "      <td>1.000000</td>\n",
       "      <td>1.000000</td>\n",
       "      <td>-1.000000</td>\n",
       "      <td>0.000000</td>\n",
       "      <td>0.100000</td>\n",
       "      <td>0.000000</td>\n",
       "      <td>0.100000</td>\n",
       "    </tr>\n",
       "    <tr>\n",
       "      <th>25%</th>\n",
       "      <td>1.982039e+08</td>\n",
       "      <td>1.209343e+06</td>\n",
       "      <td>1999.000000</td>\n",
       "      <td>27.000000</td>\n",
       "      <td>27.000000</td>\n",
       "      <td>-0.500000</td>\n",
       "      <td>26.000000</td>\n",
       "      <td>0.330000</td>\n",
       "      <td>0.250000</td>\n",
       "      <td>0.320000</td>\n",
       "    </tr>\n",
       "    <tr>\n",
       "      <th>50%</th>\n",
       "      <td>3.929179e+08</td>\n",
       "      <td>2.486103e+06</td>\n",
       "      <td>2008.000000</td>\n",
       "      <td>51.000000</td>\n",
       "      <td>52.000000</td>\n",
       "      <td>0.000000</td>\n",
       "      <td>51.000000</td>\n",
       "      <td>0.560000</td>\n",
       "      <td>0.500000</td>\n",
       "      <td>0.550000</td>\n",
       "    </tr>\n",
       "    <tr>\n",
       "      <th>75%</th>\n",
       "      <td>5.978880e+08</td>\n",
       "      <td>3.781338e+06</td>\n",
       "      <td>2017.000000</td>\n",
       "      <td>76.000000</td>\n",
       "      <td>78.000000</td>\n",
       "      <td>0.490000</td>\n",
       "      <td>76.000000</td>\n",
       "      <td>0.780000</td>\n",
       "      <td>0.750000</td>\n",
       "      <td>0.770000</td>\n",
       "    </tr>\n",
       "    <tr>\n",
       "      <th>max</th>\n",
       "      <td>7.999510e+08</td>\n",
       "      <td>4.999643e+06</td>\n",
       "      <td>2025.000000</td>\n",
       "      <td>100.000000</td>\n",
       "      <td>103.000000</td>\n",
       "      <td>1.000000</td>\n",
       "      <td>100.000000</td>\n",
       "      <td>1.000000</td>\n",
       "      <td>1.000000</td>\n",
       "      <td>1.000000</td>\n",
       "    </tr>\n",
       "  </tbody>\n",
       "</table>\n",
       "</div>"
      ],
      "text/plain": [
       "            Streams  Daily Streams  Release Year  Peak Position  \\\n",
       "count  4.850000e+03   4.850000e+03   4850.000000    4850.000000   \n",
       "mean   3.970579e+08   2.493418e+06   2007.725773      51.425773   \n",
       "std    2.307764e+08   1.457542e+06     10.341312      28.909270   \n",
       "min    1.130883e+06   1.158000e+04   1990.000000       1.000000   \n",
       "25%    1.982039e+08   1.209343e+06   1999.000000      27.000000   \n",
       "50%    3.929179e+08   2.486103e+06   2008.000000      51.000000   \n",
       "75%    5.978880e+08   3.781338e+06   2017.000000      76.000000   \n",
       "max    7.999510e+08   4.999643e+06   2025.000000     100.000000   \n",
       "\n",
       "       Weeks on Chart  Lyrics Sentiment  TikTok Virality  Danceability  \\\n",
       "count     4850.000000       4850.000000      4850.000000   4850.000000   \n",
       "mean        52.280000          0.000478        50.776495      0.555280   \n",
       "std         29.472456          0.574915        29.325179      0.260619   \n",
       "min          1.000000         -1.000000         0.000000      0.100000   \n",
       "25%         27.000000         -0.500000        26.000000      0.330000   \n",
       "50%         52.000000          0.000000        51.000000      0.560000   \n",
       "75%         78.000000          0.490000        76.000000      0.780000   \n",
       "max        103.000000          1.000000       100.000000      1.000000   \n",
       "\n",
       "       Acousticness       Energy  \n",
       "count   4850.000000  4850.000000  \n",
       "mean       0.501029     0.553091  \n",
       "std        0.287531     0.260541  \n",
       "min        0.000000     0.100000  \n",
       "25%        0.250000     0.320000  \n",
       "50%        0.500000     0.550000  \n",
       "75%        0.750000     0.770000  \n",
       "max        1.000000     1.000000  "
      ]
     },
     "execution_count": 4,
     "metadata": {},
     "output_type": "execute_result"
    }
   ],
   "source": [
    "df.describe()"
   ]
  },
  {
   "cell_type": "code",
   "execution_count": 14,
   "metadata": {},
   "outputs": [
    {
     "data": {
      "text/html": [
       "<div>\n",
       "<style scoped>\n",
       "    .dataframe tbody tr th:only-of-type {\n",
       "        vertical-align: middle;\n",
       "    }\n",
       "\n",
       "    .dataframe tbody tr th {\n",
       "        vertical-align: top;\n",
       "    }\n",
       "\n",
       "    .dataframe thead th {\n",
       "        text-align: right;\n",
       "    }\n",
       "</style>\n",
       "<table border=\"1\" class=\"dataframe\">\n",
       "  <thead>\n",
       "    <tr style=\"text-align: right;\">\n",
       "      <th></th>\n",
       "      <th>Song</th>\n",
       "      <th>Artist</th>\n",
       "      <th>Genre</th>\n",
       "    </tr>\n",
       "  </thead>\n",
       "  <tbody>\n",
       "    <tr>\n",
       "      <th>count</th>\n",
       "      <td>4850</td>\n",
       "      <td>4850</td>\n",
       "      <td>4850</td>\n",
       "    </tr>\n",
       "    <tr>\n",
       "      <th>unique</th>\n",
       "      <td>4747</td>\n",
       "      <td>20</td>\n",
       "      <td>22</td>\n",
       "    </tr>\n",
       "    <tr>\n",
       "      <th>top</th>\n",
       "      <td>Track 58512</td>\n",
       "      <td>Jay Zenith</td>\n",
       "      <td>Indie</td>\n",
       "    </tr>\n",
       "    <tr>\n",
       "      <th>freq</th>\n",
       "      <td>3</td>\n",
       "      <td>274</td>\n",
       "      <td>249</td>\n",
       "    </tr>\n",
       "  </tbody>\n",
       "</table>\n",
       "</div>"
      ],
      "text/plain": [
       "               Song      Artist  Genre\n",
       "count          4850        4850   4850\n",
       "unique         4747          20     22\n",
       "top     Track 58512  Jay Zenith  Indie\n",
       "freq              3         274    249"
      ]
     },
     "execution_count": 14,
     "metadata": {},
     "output_type": "execute_result"
    }
   ],
   "source": [
    "df.describe(include=['O'])"
   ]
  },
  {
   "cell_type": "code",
   "execution_count": 11,
   "metadata": {},
   "outputs": [
    {
     "data": {
      "text/plain": [
       "Song                0\n",
       "Artist              0\n",
       "Streams             0\n",
       "Daily Streams       0\n",
       "Genre               0\n",
       "Release Year        0\n",
       "Peak Position       0\n",
       "Weeks on Chart      0\n",
       "Lyrics Sentiment    0\n",
       "TikTok Virality     0\n",
       "Danceability        0\n",
       "Acousticness        0\n",
       "Energy              0\n",
       "dtype: int64"
      ]
     },
     "execution_count": 11,
     "metadata": {},
     "output_type": "execute_result"
    }
   ],
   "source": [
    "df.isnull().sum()"
   ]
  },
  {
   "cell_type": "code",
   "execution_count": 9,
   "metadata": {},
   "outputs": [
    {
     "data": {
      "text/plain": [
       "(4850, 13)"
      ]
     },
     "execution_count": 9,
     "metadata": {},
     "output_type": "execute_result"
    }
   ],
   "source": [
    "df.shape"
   ]
  },
  {
   "cell_type": "code",
   "execution_count": 10,
   "metadata": {},
   "outputs": [
    {
     "name": "stdout",
     "output_type": "stream",
     "text": [
      "<class 'pandas.core.frame.DataFrame'>\n",
      "RangeIndex: 4850 entries, 0 to 4849\n",
      "Data columns (total 13 columns):\n",
      " #   Column            Non-Null Count  Dtype  \n",
      "---  ------            --------------  -----  \n",
      " 0   Song              4850 non-null   object \n",
      " 1   Artist            4850 non-null   object \n",
      " 2   Streams           4850 non-null   int64  \n",
      " 3   Daily Streams     4850 non-null   int64  \n",
      " 4   Genre             4850 non-null   object \n",
      " 5   Release Year      4850 non-null   int64  \n",
      " 6   Peak Position     4850 non-null   int64  \n",
      " 7   Weeks on Chart    4850 non-null   int64  \n",
      " 8   Lyrics Sentiment  4850 non-null   float64\n",
      " 9   TikTok Virality   4850 non-null   int64  \n",
      " 10  Danceability      4850 non-null   float64\n",
      " 11  Acousticness      4850 non-null   float64\n",
      " 12  Energy            4850 non-null   float64\n",
      "dtypes: float64(4), int64(6), object(3)\n",
      "memory usage: 492.7+ KB\n"
     ]
    }
   ],
   "source": [
    "df.info()"
   ]
  },
  {
   "cell_type": "code",
   "execution_count": 15,
   "metadata": {},
   "outputs": [
    {
     "data": {
      "text/plain": [
       "np.int64(0)"
      ]
     },
     "execution_count": 15,
     "metadata": {},
     "output_type": "execute_result"
    }
   ],
   "source": [
    "df.duplicated().sum()"
   ]
  },
  {
   "cell_type": "code",
   "execution_count": 18,
   "metadata": {},
   "outputs": [
    {
     "ename": "NameError",
     "evalue": "name 'plt' is not defined",
     "output_type": "error",
     "traceback": [
      "\u001b[1;31m---------------------------------------------------------------------------\u001b[0m",
      "\u001b[1;31mNameError\u001b[0m                                 Traceback (most recent call last)",
      "Cell \u001b[1;32mIn[18], line 2\u001b[0m\n\u001b[0;32m      1\u001b[0m sns\u001b[38;5;241m.\u001b[39mheatmap(df\u001b[38;5;241m.\u001b[39misnull(), cbar\u001b[38;5;241m=\u001b[39m\u001b[38;5;28;01mFalse\u001b[39;00m)\n\u001b[1;32m----> 2\u001b[0m \u001b[43mplt\u001b[49m\u001b[38;5;241m.\u001b[39mshow()\n",
      "\u001b[1;31mNameError\u001b[0m: name 'plt' is not defined"
     ]
    },
    {
     "data": {
      "image/png": "[encoded data removed]",
      "text/plain": [
       "<Figure size 640x480 with 1 Axes>"
      ]
     },
     "metadata": {},
     "output_type": "display_data"
    }
   ],
   "source": [
    "sns.heatmap(df.isnull(), cbar=False)\n",
    "plt.show()\n"
   ]
  },
  {
   "cell_type": "code",
   "execution_count": null,
   "metadata": {},
   "outputs": [],
   "source": []
  }
 ],
 "metadata": {
  "kernelspec": {
   "display_name": "venv",
   "language": "python",
   "name": "python3"
  },
  "language_info": {
   "codemirror_mode": {
    "name": "ipython",
    "version": 3
   },
   "file_extension": ".py",
   "mimetype": "text/x-python",
   "name": "python",
   "nbconvert_exporter": "python",
   "pygments_lexer": "ipython3",
   "version": "3.10.11"
  }
 },
 "nbformat": 4,
 "nbformat_minor": 2
}
